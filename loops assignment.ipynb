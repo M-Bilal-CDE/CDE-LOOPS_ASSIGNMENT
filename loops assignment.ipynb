{
 "cells": [
  {
   "cell_type": "markdown",
   "id": "d9407349-1f80-4987-b6b0-3b3f2249889c",
   "metadata": {},
   "source": [
    "## Assignment 05  Looping Structures "
   ]
  },
  {
   "cell_type": "markdown",
   "id": "7f6c97f1-119a-41ea-8cec-8d7c38b669f3",
   "metadata": {},
   "source": [
    "#### 1. Write a Python program to print the numbers from 1 to 10 using a for loop.  "
   ]
  },
  {
   "cell_type": "code",
   "execution_count": 1,
   "id": "7effe5b4-4d94-40bd-9956-cb71c7c40cb4",
   "metadata": {},
   "outputs": [
    {
     "name": "stdout",
     "output_type": "stream",
     "text": [
      "1\n",
      "2\n",
      "3\n",
      "4\n",
      "5\n",
      "6\n",
      "7\n",
      "8\n",
      "9\n",
      "10\n"
     ]
    }
   ],
   "source": [
    "for i in range(1, 11):\n",
    "    print(i)"
   ]
  },
  {
   "cell_type": "markdown",
   "id": "ae99fb37-0d7a-4d8a-9a44-3dc48c9a0964",
   "metadata": {},
   "source": [
    "#### 2. Write a Python program to print the numbers from 20 to 1 using a while loop. "
   ]
  },
  {
   "cell_type": "code",
   "execution_count": 2,
   "id": "ad025cad-2014-432a-ae9b-25dbead57168",
   "metadata": {},
   "outputs": [
    {
     "name": "stdout",
     "output_type": "stream",
     "text": [
      "20\n",
      "19\n",
      "18\n",
      "17\n",
      "16\n",
      "15\n",
      "14\n",
      "13\n",
      "12\n",
      "11\n",
      "10\n",
      "9\n",
      "8\n",
      "7\n",
      "6\n",
      "5\n",
      "4\n",
      "3\n",
      "2\n",
      "1\n"
     ]
    }
   ],
   "source": [
    "i = 20\n",
    "while i >= 1:\n",
    "    print(i)\n",
    "    i -= 1"
   ]
  },
  {
   "cell_type": "markdown",
   "id": "091a3fbb-dde0-4283-8494-8637107168b8",
   "metadata": {},
   "source": [
    "#### 3. Write a program to print even numbers from 1 to 1"
   ]
  },
  {
   "cell_type": "code",
   "execution_count": 3,
   "id": "e326a79b-19b9-49fa-aad9-5ca2b8e4dc3d",
   "metadata": {},
   "outputs": [
    {
     "name": "stdout",
     "output_type": "stream",
     "text": [
      "2\n",
      "4\n",
      "6\n",
      "8\n",
      "10\n"
     ]
    }
   ],
   "source": [
    "for i in range(1, 11):\n",
    "    if i % 2 == 0:\n",
    "        print(i)"
   ]
  },
  {
   "cell_type": "markdown",
   "id": "26a5f70a-5dd3-41f5-ae38-e04341c8ba0d",
   "metadata": {},
   "source": [
    "#### 4. Write a program that prompts the user to enter a number n and prints all the numbers from 1 to n.   "
   ]
  },
  {
   "cell_type": "code",
   "execution_count": 4,
   "id": "3c2b9c7e-acbf-45d6-b651-4c9b822fb4ca",
   "metadata": {},
   "outputs": [
    {
     "name": "stdin",
     "output_type": "stream",
     "text": [
      "Enter a number:  12\n"
     ]
    },
    {
     "name": "stdout",
     "output_type": "stream",
     "text": [
      "1\n",
      "2\n",
      "3\n",
      "4\n",
      "5\n",
      "6\n",
      "7\n",
      "8\n",
      "9\n",
      "10\n",
      "11\n",
      "12\n"
     ]
    }
   ],
   "source": [
    "n = int(input(\"Enter a number: \"))\n",
    "for i in range(1, n+1):\n",
    "    print(i)"
   ]
  },
  {
   "cell_type": "markdown",
   "id": "700a480f-61ea-4cd1-8879-2e7a9abf204f",
   "metadata": {},
   "source": [
    "#### 5. Write a program that prompts the user to enter a number n, and then prints all the odd numbers between 1 and n.  "
   ]
  },
  {
   "cell_type": "code",
   "execution_count": 5,
   "id": "11203816-a7d7-44f0-a1b4-db4431a0a60b",
   "metadata": {},
   "outputs": [
    {
     "name": "stdin",
     "output_type": "stream",
     "text": [
      "Enter a number:  5\n"
     ]
    },
    {
     "name": "stdout",
     "output_type": "stream",
     "text": [
      "1\n",
      "3\n",
      "5\n"
     ]
    }
   ],
   "source": [
    "n = int(input(\"Enter a number: \"))\n",
    "for i in range(1, n+1):\n",
    "    if i % 2 != 0:\n",
    "        print(i)"
   ]
  },
  {
   "cell_type": "markdown",
   "id": "bdd40d99-1943-4de6-8fe3-c9ab7d30c3de",
   "metadata": {},
   "source": [
    "#### 6. Write a program that prints 'Happy Birthday!' five times on screen. "
   ]
  },
  {
   "cell_type": "code",
   "execution_count": 6,
   "id": "da4e4c7d-33b7-46d5-b15c-90baf91b1735",
   "metadata": {},
   "outputs": [
    {
     "name": "stdout",
     "output_type": "stream",
     "text": [
      "Happy Birthday!\n",
      "Happy Birthday!\n",
      "Happy Birthday!\n",
      "Happy Birthday!\n",
      "Happy Birthday!\n"
     ]
    }
   ],
   "source": [
    "for i in range(5):\n",
    "    print(\"Happy Birthday!\")"
   ]
  },
  {
   "cell_type": "markdown",
   "id": "f97b1096-0d07-46d4-8775-abaca8f9ff90",
   "metadata": {},
   "source": [
    "#### 7. Write a program that takes a number n as input from the user and generates the first \n",
    "#### n terms of the series formed by squaring the natural numbers. \n",
    "#### Sample output \n",
    "#### Enter a number: 6 \n",
    "#### The first 6 terms of the series are: \n",
    "#### 1 4 9 16 25 36 "
   ]
  },
  {
   "cell_type": "code",
   "execution_count": 7,
   "id": "d0dc0b39-a87b-4486-a06f-f6f11279ea0b",
   "metadata": {},
   "outputs": [
    {
     "name": "stdin",
     "output_type": "stream",
     "text": [
      "Enter a number:  2\n"
     ]
    },
    {
     "name": "stdout",
     "output_type": "stream",
     "text": [
      "The first 2 terms of the series are:\n",
      "1 4 \n"
     ]
    }
   ],
   "source": [
    "n = int(input(\"Enter a number: \"))\n",
    "print(\"The first\", n, \"terms of the series are:\")\n",
    "for i in range(1, n+1):\n",
    "    print(i*i, end=\" \")\n",
    "print()"
   ]
  },
  {
   "cell_type": "markdown",
   "id": "4754dea4-bd69-4867-952c-c314ef8b64d2",
   "metadata": {},
   "source": [
    "#### 8. Write a program that prompts the user to input a number and prints its multiplication \n",
    "#### table.  "
   ]
  },
  {
   "cell_type": "code",
   "execution_count": 8,
   "id": "6c6c0fe8-f8bd-4cd7-ac1f-8a9921ea6922",
   "metadata": {},
   "outputs": [
    {
     "name": "stdin",
     "output_type": "stream",
     "text": [
      "Enter a number:  6\n"
     ]
    },
    {
     "name": "stdout",
     "output_type": "stream",
     "text": [
      "6 x 1 = 6\n",
      "6 x 2 = 12\n",
      "6 x 3 = 18\n",
      "6 x 4 = 24\n",
      "6 x 5 = 30\n",
      "6 x 6 = 36\n",
      "6 x 7 = 42\n",
      "6 x 8 = 48\n",
      "6 x 9 = 54\n",
      "6 x 10 = 60\n"
     ]
    }
   ],
   "source": [
    "n = int(input(\"Enter a number: \"))\n",
    "for i in range(1, 11):\n",
    "    print(n, \"x\", i, \"=\", n*i)"
   ]
  },
  {
   "cell_type": "markdown",
   "id": "49ea1c7d-dd4c-4559-bafe-12ba945c150b",
   "metadata": {},
   "source": [
    "#### 9. Write a Python program to print the first 8 terms of an arithmetic progression starting \n",
    "#### with 3 and having a common difference of 4. \n",
    "#### The program should output the following sequence: \n",
    "#### 3 7 11 15 19 23 27 31"
   ]
  },
  {
   "cell_type": "code",
   "execution_count": 9,
   "id": "252b4d01-8f8c-48d7-89c2-9c098027309f",
   "metadata": {},
   "outputs": [
    {
     "name": "stdout",
     "output_type": "stream",
     "text": [
      "3 7 11 15 19 23 27 31 \n"
     ]
    }
   ],
   "source": [
    "a, d = 3, 4\n",
    "for i in range(8):\n",
    "    print(a + i*d, end=\" \")\n",
    "print()"
   ]
  },
  {
   "cell_type": "markdown",
   "id": "6db6413b-7d76-4920-a418-e9d8b935fcf3",
   "metadata": {},
   "source": [
    "#### 10. Write a Python program to print the first 6 terms of a geometric sequence starting \n",
    "#### with 2 and having a common ratio of 3. \n",
    "#### The program should output the following sequence: \n",
    "#### 2 6 18 54 162 486   "
   ]
  },
  {
   "cell_type": "code",
   "execution_count": 10,
   "id": "e65df314-8095-4cc9-8300-2ed26d4e95d2",
   "metadata": {},
   "outputs": [
    {
     "name": "stdout",
     "output_type": "stream",
     "text": [
      "2 6 18 54 162 486 \n"
     ]
    }
   ],
   "source": [
    "a, r = 2, 3\n",
    "for i in range(6):\n",
    "    print(a * (r**i), end=\" \")\n",
    "print()"
   ]
  },
  {
   "cell_type": "markdown",
   "id": "3de57265-1598-47e7-b221-7f323dafefd3",
   "metadata": {},
   "source": [
    "#### 11. Write a program that asks the user for a positive integer value. The program should \n",
    "#### calculate the sum of all the integers from 1 up to the number entered. For example, if \n",
    "#### the user enters 20, the loop will find the sum of 1, 2, 3, 4, ... 20.  "
   ]
  },
  {
   "cell_type": "code",
   "execution_count": 11,
   "id": "f02c8e8d-420b-4ad7-afdd-139995b30261",
   "metadata": {},
   "outputs": [
    {
     "name": "stdin",
     "output_type": "stream",
     "text": [
      "Enter a positive integer:  12\n"
     ]
    },
    {
     "name": "stdout",
     "output_type": "stream",
     "text": [
      "The sum is: 78\n"
     ]
    }
   ],
   "source": [
    "n = int(input(\"Enter a positive integer: \"))\n",
    "s = 0\n",
    "for i in range(1, n+1):\n",
    "    s += i\n",
    "print(\"The sum is:\", s)"
   ]
  },
  {
   "cell_type": "markdown",
   "id": "3d408f33-41c2-47a0-9ab5-01bc64dab30c",
   "metadata": {},
   "source": [
    "#### 12. write a program that takes a positive integer N as input and calculates the sum of \n",
    "#### the reciprocals of all numbers from 1 up to N. The program should display the final sum. \n",
    "#### Output of the program should be like: \n",
    "#### Enter a positive integer: 5 \n",
    "#### The sum of reciprocals from 1 to 5 is: 2.28   "
   ]
  },
  {
   "cell_type": "code",
   "execution_count": 12,
   "id": "01afec42-f5f7-4d98-ac9b-9b735375c520",
   "metadata": {},
   "outputs": [
    {
     "name": "stdin",
     "output_type": "stream",
     "text": [
      "Enter a positive integer:  12\n"
     ]
    },
    {
     "name": "stdout",
     "output_type": "stream",
     "text": [
      "The sum of reciprocals from 1 to 12 is: 3.1\n"
     ]
    }
   ],
   "source": [
    "n = int(input(\"Enter a positive integer: \"))\n",
    "s = 0\n",
    "for i in range(1, n+1):\n",
    "    s += 1/i\n",
    "print(\"The sum of reciprocals from 1 to\", n, \"is:\", round(s, 2))"
   ]
  },
  {
   "cell_type": "markdown",
   "id": "287c0051-296c-4799-80c4-a306ecde318b",
   "metadata": {},
   "source": [
    "#### 13. Write a program that prompts the user to enter a number and repeats this process 5 \n",
    "#### times. The program should accumulate the numbers entered and then display the final \n",
    "#### running total. \n",
    "#### Sample Output: \n",
    "#### Enter a number: 10 \n",
    "#### Enter a number: 15 \n",
    "#### Enter a number: 35 \n",
    "#### Enter a number: 40 \n",
    "#### Enter a number: 50 \n",
    "#### The final running total is: 150  "
   ]
  },
  {
   "cell_type": "code",
   "execution_count": 13,
   "id": "aae7a30b-f2b7-40fd-99ae-3481847634f0",
   "metadata": {},
   "outputs": [
    {
     "name": "stdin",
     "output_type": "stream",
     "text": [
      "Enter a number:  12\n",
      "Enter a number:  6\n",
      "Enter a number:  2\n",
      "Enter a number:  12\n",
      "Enter a number:  32\n"
     ]
    },
    {
     "name": "stdout",
     "output_type": "stream",
     "text": [
      "The final running total is: 64\n"
     ]
    }
   ],
   "source": [
    "total = 0\n",
    "for i in range(5):\n",
    "    num = int(input(\"Enter a number: \"))\n",
    "    total += num\n",
    "print(\"The final running total is:\", total)"
   ]
  },
  {
   "cell_type": "markdown",
   "id": "3a9a9852-7060-4456-aa8f-8635f9e70217",
   "metadata": {},
   "source": [
    "#### 14. Write a program that prompts the user to enter a positive integer and calculates its \n",
    "#### factorial. The factorial of a positive integer 'n' is denoted as 'n!' and is calculated by \n",
    "#### multiplying all the integers from 1 to 'n' together. For example, the factorial of 5 \n",
    "#### (denoted as 5!) is calculated as 1 x 2 x 3 x 4 x 5. \n",
    "#### The program should display the factorial value if the input is a positive number, or \n",
    "#### display a message stating that the factorial does not exist for negative numbers. \n",
    "#### Additionally, for an input of zero, the program should output that the factorial of 0 is 1. "
   ]
  },
  {
   "cell_type": "code",
   "execution_count": 14,
   "id": "9c3a1d4b-b0d9-46c6-a8d4-5063737a6510",
   "metadata": {},
   "outputs": [
    {
     "name": "stdin",
     "output_type": "stream",
     "text": [
      "Enter a number:  12\n"
     ]
    },
    {
     "name": "stdout",
     "output_type": "stream",
     "text": [
      "The factorial of 12 is 479001600\n"
     ]
    }
   ],
   "source": [
    "n = int(input(\"Enter a number: \"))\n",
    "if n < 0:\n",
    "    print(\"Factorial does not exist for negative numbers\")\n",
    "elif n == 0:\n",
    "    print(\"The factorial of 0 is 1\")\n",
    "else:\n",
    "    fact = 1\n",
    "    for i in range(1, n+1):\n",
    "        fact *= i\n",
    "    print(\"The factorial of\", n, \"is\", fact)"
   ]
  },
  {
   "cell_type": "markdown",
   "id": "3f0c20a4-4c50-4514-81cd-dac06d4864ec",
   "metadata": {},
   "source": [
    "#### 15. Write a Python program that prompts the user to enter a base number and an \n",
    "#### exponent, and then calculates the power of the base to the exponent. The program \n",
    "#### should not use the exponentiation operator (**) or the math.pow() function. The \n",
    "#### program should handle both positive and negative exponents.   "
   ]
  },
  {
   "cell_type": "code",
   "execution_count": 15,
   "id": "1e0c3a58-39e3-450d-a867-00a802339a85",
   "metadata": {},
   "outputs": [
    {
     "name": "stdin",
     "output_type": "stream",
     "text": [
      "Enter base:  3\n",
      "Enter exponent:  2\n"
     ]
    },
    {
     "name": "stdout",
     "output_type": "stream",
     "text": [
      "Result: 9.0\n"
     ]
    }
   ],
   "source": [
    "base = float(input(\"Enter base: \"))\n",
    "exp = int(input(\"Enter exponent: \"))\n",
    "result = 1\n",
    "if exp > 0:\n",
    "    for i in range(exp):\n",
    "        result *= base\n",
    "elif exp < 0:\n",
    "    for i in range(-exp):\n",
    "        result *= base\n",
    "    result = 1 / result\n",
    "print(\"Result:\", result)"
   ]
  }
 ],
 "metadata": {
  "kernelspec": {
   "display_name": "Python (anaconda)",
   "language": "python",
   "name": "anaconda"
  },
  "language_info": {
   "codemirror_mode": {
    "name": "ipython",
    "version": 3
   },
   "file_extension": ".py",
   "mimetype": "text/x-python",
   "name": "python",
   "nbconvert_exporter": "python",
   "pygments_lexer": "ipython3",
   "version": "3.13.5"
  }
 },
 "nbformat": 4,
 "nbformat_minor": 5
}
